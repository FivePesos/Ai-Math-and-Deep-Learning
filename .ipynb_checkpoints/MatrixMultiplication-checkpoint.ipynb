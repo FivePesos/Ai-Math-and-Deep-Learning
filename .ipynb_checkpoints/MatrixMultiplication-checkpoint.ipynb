{
 "cells": [
  {
   "cell_type": "code",
   "execution_count": 1,
   "id": "d9e149f3-5798-43db-a664-17a5a32176e6",
   "metadata": {},
   "outputs": [],
   "source": [
    "import numpy as np\n",
    "import torch"
   ]
  },
  {
   "cell_type": "markdown",
   "id": "bc680aab-4fd7-4275-9e0b-755ac917e6c2",
   "metadata": {},
   "source": [
    "# Using Numpy"
   ]
  },
  {
   "cell_type": "code",
   "execution_count": 8,
   "id": "512052e8-ba6e-472b-8bce-a31e327daa75",
   "metadata": {},
   "outputs": [
    {
     "name": "stdout",
     "output_type": "stream",
     "text": [
      "[[0.69 0.65 0.74 1.04 0.86]\n",
      " [0.91 0.71 0.83 1.22 0.91]\n",
      " [0.97 1.15 1.24 1.92 1.75]]\n",
      "\n",
      "[[0.71 0.6  1.03 0.45]\n",
      " [0.97 0.77 1.31 0.63]\n",
      " [1.26 0.82 1.57 0.96]\n",
      " [0.34 0.44 0.64 0.12]\n",
      " [0.82 0.67 1.29 0.59]\n",
      " [1.01 0.7  1.01 0.62]\n",
      " [1.09 0.67 1.25 0.82]]\n"
     ]
    }
   ],
   "source": [
    "#Create random matrices\n",
    "A= np.random.rand(3,4)\n",
    "B= np.random.rand(4,5)\n",
    "C= np.random.rand(3,7)\n",
    "\n",
    "#try some multiplications\n",
    "print(f\"{np.round(A@B ,2)}\\n\") #A@B in python @ multiplies matrices\n",
    "#print(f\"{np.round(A@C ,2)}\\n\")  # error: inner dimensions 4 and 3 don't match\n",
    "#print(f\"{np.round(B@C ,2)}\\n\")  # error: inner dimensions 5 and 3 don't match\n",
    "print(f\"{np.round(C.T@A, 2)}\")"
   ]
  },
  {
   "cell_type": "markdown",
   "id": "b8b86a44-7f59-4814-8e11-b16f42d050b7",
   "metadata": {},
   "source": [
    "# Using pytorch"
   ]
  },
  {
   "cell_type": "code",
   "execution_count": 14,
   "id": "1ac23086-5be0-41f5-b527-6303f93974d0",
   "metadata": {},
   "outputs": [
    {
     "name": "stdout",
     "output_type": "stream",
     "text": [
      "tensor([[-0.5500,  0.3200, -0.6600, -3.1000, -1.1100],\n",
      "        [ 0.1100,  0.6000,  0.1900, -0.5100, -0.8200],\n",
      "        [ 0.5000, -0.8900,  0.6600, -0.0400,  0.3400]])\n",
      "\n",
      "tensor([[-0.1200, -0.7500,  1.6300,  0.6200,  1.7900,  1.0700,  0.4300],\n",
      "        [-2.5100, -1.1500,  0.0000, -0.4500, -1.8300, -1.8100,  1.0500],\n",
      "        [ 0.3800,  1.0600,  0.2800, -0.0600,  1.6200,  1.1300, -0.0700]],\n",
      "       dtype=torch.float64)\n",
      "\n",
      "tensor([[-0.1200, -0.7500,  1.6300,  0.6200,  1.7900,  1.0700,  0.4300],\n",
      "        [-2.5100, -1.1500,  0.0000, -0.4500, -1.8300, -1.8100,  1.0500],\n",
      "        [ 0.3800,  1.0600,  0.2800, -0.0600,  1.6200,  1.1300, -0.0700]])\n",
      "\n"
     ]
    },
    {
     "name": "stderr",
     "output_type": "stream",
     "text": [
      "C:\\Users\\johnp\\AppData\\Local\\Temp\\ipykernel_7144\\1435267618.py:9: DeprecationWarning: __array_wrap__ must accept context and return_scalar arguments (positionally) in the future. (Deprecated NumPy 2.0)\n",
      "  print(f\"{np.round(A@C1 ,2)}\\n\")  # works, but warning: mixing Torch (A) and NumPy (C1)\n"
     ]
    }
   ],
   "source": [
    "#Create random matrices\n",
    "A = torch.randn(3,4)\n",
    "B = torch.randn(4,5)\n",
    "C1 = np.random.randn(4,7)\n",
    "C2 = torch.tensor(C1, dtype = torch.float) #Convert to tensor\n",
    "\n",
    "print(f\"{np.round(A@B ,2)}\\n\")   # valid: (3×4) @ (4×5) = (3×5)\n",
    "#print(f\"{np.round(A@B.T ,2)}\\n\") # error: inner dimensions 4 and 5 don't match\n",
    "print(f\"{np.round(A@C1 ,2)}\\n\")  # works, but warning: mixing Torch (A) and NumPy (C1)\n",
    "print(f\"{np.round(A@C2 ,2)}\\n\")  # valid: (3×4) @ (4×7) = (3×7), both Torch tensors\n"
   ]
  },
  {
   "cell_type": "code",
   "execution_count": null,
   "id": "d817ab47-d4f6-45da-a66c-4b572e391fa7",
   "metadata": {},
   "outputs": [],
   "source": []
  },
  {
   "cell_type": "code",
   "execution_count": null,
   "id": "53045c47-7883-44e0-8c71-f6d337cc33d6",
   "metadata": {},
   "outputs": [],
   "source": []
  }
 ],
 "metadata": {
  "kernelspec": {
   "display_name": "Python 3 (ipykernel)",
   "language": "python",
   "name": "python3"
  },
  "language_info": {
   "codemirror_mode": {
    "name": "ipython",
    "version": 3
   },
   "file_extension": ".py",
   "mimetype": "text/x-python",
   "name": "python",
   "nbconvert_exporter": "python",
   "pygments_lexer": "ipython3",
   "version": "3.13.5"
  }
 },
 "nbformat": 4,
 "nbformat_minor": 5
}
