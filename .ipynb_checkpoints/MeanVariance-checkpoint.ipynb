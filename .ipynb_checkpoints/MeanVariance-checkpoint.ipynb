{
 "cells": [
  {
   "cell_type": "code",
   "execution_count": 1,
   "id": "72acf140-53a4-41d2-a921-7245d88ceed2",
   "metadata": {},
   "outputs": [],
   "source": [
    "import numpy as np"
   ]
  },
  {
   "cell_type": "code",
   "execution_count": 3,
   "id": "357b792c-6e70-4534-b8d4-e310b0e8f08a",
   "metadata": {},
   "outputs": [
    {
     "name": "stdout",
     "output_type": "stream",
     "text": [
      "3.142857142857143\n",
      "3.142857142857143\n"
     ]
    }
   ],
   "source": [
    "#create a list of numbers\n",
    "x=[1,2,4,6,5,4,0]\n",
    "n=len(x)\n",
    "\n",
    "mean1 = np.mean(x)\n",
    "mean2 = np.sum(x) / n\n",
    "\n",
    "print(mean1)\n",
    "print(mean2)"
   ]
  },
  {
   "cell_type": "code",
   "execution_count": 10,
   "id": "e339727a-8ac4-4390-8bda-c95e3f826973",
   "metadata": {},
   "outputs": [
    {
     "name": "stdout",
     "output_type": "stream",
     "text": [
      "4.122448979591836\n",
      "4.809523809523809\n"
     ]
    }
   ],
   "source": [
    "#Variance \n",
    "var1 = np.var(x)\n",
    "var2 =(1/(n-1)) * np.sum((x-mean1)**2) #biased measure of variance\n",
    "\n",
    "print(var1)\n",
    "print(var2)"
   ]
  },
  {
   "cell_type": "code",
   "execution_count": 13,
   "id": "75ee1a9d-a1bc-4894-bd6c-b9b933070960",
   "metadata": {},
   "outputs": [
    {
     "name": "stdout",
     "output_type": "stream",
     "text": [
      "4.809523809523809\n",
      "4.809523809523809\n"
     ]
    }
   ],
   "source": [
    "var3 = np.var(x,ddof=1) #degrees of freedom\n",
    "\n",
    "print(var3)\n",
    "print(var2)"
   ]
  },
  {
   "cell_type": "code",
   "execution_count": 19,
   "id": "e33b1837-e3da-4f6e-b7b8-a043845f00f0",
   "metadata": {},
   "outputs": [
    {
     "name": "stdout",
     "output_type": "stream",
     "text": [
      "33.240070790000004\n",
      "33.243395129512955\n"
     ]
    }
   ],
   "source": [
    "N=10000\n",
    "x=np.random.randint(0,high=20,size=N)\n",
    "\n",
    "var0 = np.var(x,ddof=0) #default\n",
    "var1 = np.var(x,ddof=1)  #Biased\n",
    "\n",
    "print(var0) \n",
    "print(var1) "
   ]
  },
  {
   "cell_type": "code",
   "execution_count": null,
   "id": "83aeedcf-7540-4df6-8e12-b2c25d525b1d",
   "metadata": {},
   "outputs": [],
   "source": []
  }
 ],
 "metadata": {
  "kernelspec": {
   "display_name": "Python 3 (ipykernel)",
   "language": "python",
   "name": "python3"
  },
  "language_info": {
   "codemirror_mode": {
    "name": "ipython",
    "version": 3
   },
   "file_extension": ".py",
   "mimetype": "text/x-python",
   "name": "python",
   "nbconvert_exporter": "python",
   "pygments_lexer": "ipython3",
   "version": "3.13.5"
  }
 },
 "nbformat": 4,
 "nbformat_minor": 5
}
