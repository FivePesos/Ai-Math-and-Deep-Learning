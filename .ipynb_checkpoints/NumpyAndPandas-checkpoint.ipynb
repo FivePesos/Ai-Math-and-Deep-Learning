{
 "cells": [
  {
   "cell_type": "code",
   "execution_count": 2,
   "id": "75e4b9d0-7b75-4b83-900e-b599b35f5641",
   "metadata": {},
   "outputs": [],
   "source": [
    "import numpy as np\n",
    "import pandas as pd"
   ]
  },
  {
   "cell_type": "code",
   "execution_count": 11,
   "id": "205f9e54-0cdf-493e-932c-e7867fd391f5",
   "metadata": {},
   "outputs": [
    {
     "name": "stdout",
     "output_type": "stream",
     "text": [
      "[22.34711031 17.67524098 17.35389641 24.29020478 19.71606208 19.06508731\n",
      " 24.63887325 24.77814994 22.32412332 16.93337964 22.16372448 17.75132979\n",
      " 11.58310427 15.31954554 12.00351265 32.20609429 20.92247275 22.95788976\n",
      " 19.77870406 28.05798128 22.87763401 28.00936873 18.79995089 27.10885327\n",
      " 13.77718639 16.10813083 19.0410581  20.50606051 24.59734316 21.21234249\n",
      " 11.49995681 13.56091436 26.55791521 16.2282281  19.55122412 16.15784566\n",
      " 11.22456631 27.03464334 25.93002211 21.41867353 26.1655771  20.78173302\n",
      " 18.39080182 20.77458178 15.41339556 15.56350701 19.20523442 16.9976626\n",
      " 21.7012795  13.71833096 24.47570771 16.8382344  19.45455046 12.35894151\n",
      " 20.99353241 16.66133547 14.55913134 20.03900703 24.94653889 16.80538948\n",
      " 14.92332351 17.02908272 24.70761444 22.37089808 24.027811   35.69920118\n",
      " 23.15115313 11.48580522 19.94670365 19.3508815  22.95303786 14.93415604\n",
      " 21.23760317 17.6433456  22.86335491 15.37223752 16.94721233 20.09563164\n",
      " 18.69496077 17.26249297 19.23562263 28.45965607 17.73748707 20.99978964\n",
      " 25.08854185 21.24378076 16.3737608  17.84772524 22.78987781 13.37016513\n",
      " 17.84830917 14.76612983 29.83508321 22.75505197 19.73739107 24.23131206\n",
      " 21.84342601 14.79670617 23.63686356 15.08894633]\n",
      "[False False False  True  True  True  True  True  True  True False  True\n",
      "  True False False False  True False False False  True  True  True  True\n",
      " False  True  True  True  True  True  True False False  True False  True\n",
      " False  True  True False False False False  True  True  True  True  True\n",
      "  True False False  True False False  True  True False  True  True  True\n",
      "  True  True False False  True  True False False False  True  True  True\n",
      " False  True  True False  True False  True  True  True  True  True  True\n",
      "  True False  True  True  True False False  True  True False False False\n",
      "  True False False  True]\n"
     ]
    },
    {
     "ename": "TypeError",
     "evalue": "can only concatenate str (not \"dict\") to str",
     "output_type": "error",
     "traceback": [
      "\u001b[31m---------------------------------------------------------------------------\u001b[39m",
      "\u001b[31mTypeError\u001b[39m                                 Traceback (most recent call last)",
      "\u001b[36mCell\u001b[39m\u001b[36m \u001b[39m\u001b[32mIn[11]\u001b[39m\u001b[32m, line 11\u001b[39m\n\u001b[32m      7\u001b[39m labels= [\u001b[33m\"\u001b[39m\u001b[33mTemp(C)\u001b[39m\u001b[33m\"\u001b[39m, \u001b[33m\"\u001b[39m\u001b[33mIce Cream\u001b[39m\u001b[33m\"\u001b[39m]\n\u001b[32m      9\u001b[39m D= {labels[\u001b[32m0\u001b[39m]:var1, labels[\u001b[32m1\u001b[39m]:var2}\n\u001b[32m---> \u001b[39m\u001b[32m11\u001b[39m \u001b[38;5;28mprint\u001b[39m(\u001b[33;43m\"\u001b[39;49m\u001b[38;5;130;43;01m\\n\u001b[39;49;00m\u001b[33;43m\"\u001b[39;49m\u001b[43m \u001b[49m\u001b[43m+\u001b[49m\u001b[43m \u001b[49m\u001b[43mD\u001b[49m )\n",
      "\u001b[31mTypeError\u001b[39m: can only concatenate str (not \"dict\") to str"
     ]
    }
   ],
   "source": [
    "var1 = np.random.randn(100)*5 + 20\n",
    "var2 = np.random.randn(100) > 0\n",
    "\n",
    "print(var1)\n",
    "print(var2)\n",
    "\n",
    "labels= [\"Temp(C)\", \"Ice Cream\"]\n",
    "\n",
    "D= {labels[0]:var1, labels[1]:var2}\n",
    "\n",
    "print(D )"
   ]
  },
  {
   "cell_type": "code",
   "execution_count": null,
   "id": "604022a6-b40f-4287-859d-164d4002d7ae",
   "metadata": {},
   "outputs": [],
   "source": []
  },
  {
   "cell_type": "code",
   "execution_count": null,
   "id": "eedfc5ec-894d-46f5-baef-5d7934992687",
   "metadata": {},
   "outputs": [],
   "source": []
  },
  {
   "cell_type": "code",
   "execution_count": null,
   "id": "5aaaf42c-7cec-4375-9a37-2bcce52a0c3c",
   "metadata": {},
   "outputs": [],
   "source": []
  }
 ],
 "metadata": {
  "kernelspec": {
   "display_name": "Python 3 (ipykernel)",
   "language": "python",
   "name": "python3"
  },
  "language_info": {
   "codemirror_mode": {
    "name": "ipython",
    "version": 3
   },
   "file_extension": ".py",
   "mimetype": "text/x-python",
   "name": "python",
   "nbconvert_exporter": "python",
   "pygments_lexer": "ipython3",
   "version": "3.13.5"
  }
 },
 "nbformat": 4,
 "nbformat_minor": 5
}
