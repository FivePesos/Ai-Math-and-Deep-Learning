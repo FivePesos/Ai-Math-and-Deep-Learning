{
 "cells": [
  {
   "cell_type": "code",
   "execution_count": 2,
   "id": "46040618-e3ef-44f2-866f-d8fa34404133",
   "metadata": {},
   "outputs": [],
   "source": [
    "import numpy as np\n",
    "import torch"
   ]
  },
  {
   "cell_type": "code",
   "execution_count": 9,
   "id": "d6a23094-a2f7-4f24-b8dd-36bf5bec2505",
   "metadata": {},
   "outputs": [
    {
     "name": "stdout",
     "output_type": "stream",
     "text": [
      "[[1 2 3 4]]\n",
      "[[1]\n",
      " [2]\n",
      " [3]\n",
      " [4]]\n",
      "[[1 2 3 4]]\n"
     ]
    }
   ],
   "source": [
    "#Create a vector\n",
    "nv = np.array([[1,2,3,4]]) #first square bracket indicates that we want to input an array, second array indicates the first row\n",
    "print(nv)\n",
    "\n",
    "#Transposing a vector\n",
    "print(nv.T) #or np.tranpose(nv)\n",
    "\n",
    "#Transpose the transposed vector\n",
    "nvt = nv.T\n",
    "print(nvt.T)"
   ]
  },
  {
   "cell_type": "code",
   "execution_count": null,
   "id": "fc301481-e2da-4d42-8d7c-cffd26a849f8",
   "metadata": {},
   "outputs": [],
   "source": []
  }
 ],
 "metadata": {
  "kernelspec": {
   "display_name": "Python 3 (ipykernel)",
   "language": "python",
   "name": "python3"
  },
  "language_info": {
   "codemirror_mode": {
    "name": "ipython",
    "version": 3
   },
   "file_extension": ".py",
   "mimetype": "text/x-python",
   "name": "python",
   "nbconvert_exporter": "python",
   "pygments_lexer": "ipython3",
   "version": "3.13.5"
  }
 },
 "nbformat": 4,
 "nbformat_minor": 5
}
