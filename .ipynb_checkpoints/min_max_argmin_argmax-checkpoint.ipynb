{
 "cells": [
  {
   "cell_type": "code",
   "execution_count": 1,
   "id": "e2d4b978-2880-40af-b32e-52ec5c9dcace",
   "metadata": {},
   "outputs": [],
   "source": [
    "import numpy as np\n",
    "import torch\n",
    "import torch.nn as nn"
   ]
  },
  {
   "cell_type": "code",
   "execution_count": 8,
   "id": "34181dbc-2202-453e-8803-d663ba02bf51",
   "metadata": {},
   "outputs": [
    {
     "name": "stdout",
     "output_type": "stream",
     "text": [
      "Min, Max: -3,40\n",
      "\n",
      "Argmin, Argmax: 3,2\n",
      "\n",
      "Argmin, Argmax: 4,3\n",
      "\n"
     ]
    }
   ],
   "source": [
    "#Create a vector\n",
    "v = np.array([1,2,40,-3])\n",
    "\n",
    "#find and report the maximum and minimum values\n",
    "minval = np.min(v)\n",
    "maxval = np.max(v)\n",
    "\n",
    "print(f\"Min, Max: {minval},{maxval}\\n\")\n",
    "\n",
    "#argmin and argmax\n",
    "minidx = np.argmin(v)\n",
    "maxidx = np.argmax(v)\n",
    "\n",
    "print(f\"Argmin, Argmax: {minidx},{maxidx}\\n\")\n",
    "print(f\"Argmin, Argmax: {minidx + 1},{maxidx + 1}\\n\")"
   ]
  },
  {
   "cell_type": "code",
   "execution_count": 16,
   "id": "0b66af2d-e793-49ac-a516-3f78c0911b0a",
   "metadata": {},
   "outputs": [
    {
     "name": "stdout",
     "output_type": "stream",
     "text": [
      "[[ 8  1 10]\n",
      " [20  0  5]]\n",
      "0\n",
      "[8 0 5]\n",
      "[1 0]\n"
     ]
    }
   ],
   "source": [
    "#Repeat for matrix\n",
    "M = np.array([[0,1,10],[20,8,5]])\n",
    "print(M)\n",
    "minvals1 = np.min(M) # min from entire matrix\n",
    "minvals2 = np.min(M, axis=0) # min of each column \n",
    "minvals3 = np.min(M, axis=1) # min of each rows\n",
    "\n",
    "print(minvals1) \n",
    "print(minvals2)\n",
    "print(minvals3)"
   ]
  },
  {
   "cell_type": "code",
   "execution_count": 17,
   "id": "6a7df36a-409b-4fe7-b59a-94ee5a4ae191",
   "metadata": {},
   "outputs": [
    {
     "name": "stdout",
     "output_type": "stream",
     "text": [
      "4\n",
      "[0 1 1]\n",
      "[1 1]\n"
     ]
    }
   ],
   "source": [
    "minidx1 = np.argmin(M) # argmin from entire matrix\n",
    "minidx2 = np.argmin(M, axis=0) # argmin of each column \n",
    "minidx3 = np.argmin(M, axis=1) # argmin of each rows\n",
    "\n",
    "print(minidx1) \n",
    "print(minidx2)\n",
    "print(minidx3)"
   ]
  },
  {
   "cell_type": "code",
   "execution_count": null,
   "id": "29a97606-25ce-4bfe-be01-39f279295f3e",
   "metadata": {},
   "outputs": [],
   "source": []
  }
 ],
 "metadata": {
  "kernelspec": {
   "display_name": "Python 3 (ipykernel)",
   "language": "python",
   "name": "python3"
  },
  "language_info": {
   "codemirror_mode": {
    "name": "ipython",
    "version": 3
   },
   "file_extension": ".py",
   "mimetype": "text/x-python",
   "name": "python",
   "nbconvert_exporter": "python",
   "pygments_lexer": "ipython3",
   "version": "3.13.5"
  }
 },
 "nbformat": 4,
 "nbformat_minor": 5
}
