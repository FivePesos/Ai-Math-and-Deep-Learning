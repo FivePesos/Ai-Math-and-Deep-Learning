{
 "cells": [
  {
   "cell_type": "code",
   "execution_count": 1,
   "id": "d9fd5e6b-e078-4eac-a2e2-21734537a07a",
   "metadata": {},
   "outputs": [],
   "source": [
    "import numpy as np \n",
    "import torch"
   ]
  },
  {
   "cell_type": "markdown",
   "id": "8ed18123-77e7-4d15-8ee5-7c16e13e0526",
   "metadata": {},
   "source": [
    "# In numpy"
   ]
  },
  {
   "cell_type": "code",
   "execution_count": 5,
   "id": "b402c9cb-15b2-466b-835e-fb4f7ea7f0ff",
   "metadata": {},
   "outputs": [
    {
     "name": "stdout",
     "output_type": "stream",
     "text": [
      "-2\n",
      "-2\n"
     ]
    }
   ],
   "source": [
    "#Create a vector\n",
    "nv1 = np.array([1,2,3,4])\n",
    "nv2 = np.array([0,1,0,-1])\n",
    "\n",
    "#Print dot product\n",
    "print(np.dot(nv1,nv2))\n",
    "#or\n",
    "print(np.sum(nv1*nv2))"
   ]
  },
  {
   "cell_type": "markdown",
   "id": "34f438c9-56d9-4018-8593-3f771b7fca72",
   "metadata": {},
   "source": [
    "# In pytorch"
   ]
  },
  {
   "cell_type": "code",
   "execution_count": 9,
   "id": "6edfd6f9-b446-4a12-aedc-284d79a5ce7e",
   "metadata": {},
   "outputs": [
    {
     "name": "stdout",
     "output_type": "stream",
     "text": [
      "tensor(-2)\n",
      "tensor(-2)\n"
     ]
    }
   ],
   "source": [
    "#Create a vector\n",
    "tv1 = torch.tensor([1,2,3,4])\n",
    "tv2 = torch.tensor([0,1,0,-1])\n",
    "\n",
    "#Print dot product\n",
    "print(torch.dot(tv1,tv2))\n",
    "#or\n",
    "print(torch.sum(tv1*tv2))"
   ]
  },
  {
   "cell_type": "code",
   "execution_count": null,
   "id": "4de84121-ecb0-402f-9c98-93fa5d6b5910",
   "metadata": {},
   "outputs": [],
   "source": []
  }
 ],
 "metadata": {
  "kernelspec": {
   "display_name": "Python 3 (ipykernel)",
   "language": "python",
   "name": "python3"
  },
  "language_info": {
   "codemirror_mode": {
    "name": "ipython",
    "version": 3
   },
   "file_extension": ".py",
   "mimetype": "text/x-python",
   "name": "python",
   "nbconvert_exporter": "python",
   "pygments_lexer": "ipython3",
   "version": "3.13.5"
  }
 },
 "nbformat": 4,
 "nbformat_minor": 5
}
