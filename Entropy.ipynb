{
 "cells": [
  {
   "cell_type": "code",
   "execution_count": 2,
   "id": "ec9d9c56-b5ce-4bff-a16b-2ca62d3dc6d4",
   "metadata": {},
   "outputs": [],
   "source": [
    "# import libraries\n",
    "import numpy as np\n",
    "import matplotlib.pyplot as plt"
   ]
  },
  {
   "cell_type": "markdown",
   "id": "4157663e-6073-4a77-8ac4-da858b14afee",
   "metadata": {},
   "source": [
    "# Reminder of entropy:\n",
    "\n",
    "$$H(p) = -\\sum_x^n p(x)\\log(p(x))$$"
   ]
  },
  {
   "cell_type": "code",
   "execution_count": null,
   "id": "2a6b9d3e-26dd-4a96-ac85-5e99c9ea91ef",
   "metadata": {},
   "outputs": [],
   "source": []
  }
 ],
 "metadata": {
  "kernelspec": {
   "display_name": "Python 3 (ipykernel)",
   "language": "python",
   "name": "python3"
  },
  "language_info": {
   "codemirror_mode": {
    "name": "ipython",
    "version": 3
   },
   "file_extension": ".py",
   "mimetype": "text/x-python",
   "name": "python",
   "nbconvert_exporter": "python",
   "pygments_lexer": "ipython3",
   "version": "3.13.5"
  }
 },
 "nbformat": 4,
 "nbformat_minor": 5
}
