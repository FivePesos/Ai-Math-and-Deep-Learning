{
 "cells": [
  {
   "cell_type": "code",
   "execution_count": 2,
   "id": "75e4b9d0-7b75-4b83-900e-b599b35f5641",
   "metadata": {},
   "outputs": [],
   "source": [
    "import numpy as np\n",
    "import pandas as pd"
   ]
  },
  {
   "cell_type": "code",
   "execution_count": 13,
   "id": "205f9e54-0cdf-493e-932c-e7867fd391f5",
   "metadata": {},
   "outputs": [
    {
     "name": "stdout",
     "output_type": "stream",
     "text": [
      "{'Temp(C)': array([17.24000153, 25.40019662, 20.80410557, 20.55190759, 19.01810152,\n",
      "       12.1547483 , 20.45699636, 26.89696387, 25.63958872, 20.26133694,\n",
      "       19.71969085, 31.51911578, 14.46723134, 18.10706923, 28.83663954,\n",
      "       22.82011977, 23.35694863, 18.36762159, 25.72942498, 22.60543136,\n",
      "       16.39867473, 14.94640776, 13.54116688, 26.96040208, 22.46821626,\n",
      "       14.82949984, 13.5889648 , 20.62780505, 15.77779638, 21.02860532,\n",
      "       16.88959498, 14.85372213, 23.35353076, 19.06888033, 18.17435705,\n",
      "       24.37983827, 13.65530097, 16.37079654, 22.98800461, 22.719916  ,\n",
      "       19.8563991 , 20.67520285, 25.90539538, 13.47637206, 18.84690096,\n",
      "       27.10862746, 16.62379627, 21.92924052, 25.74910058, 20.99401064,\n",
      "        9.48001973, 16.25760046, 27.19373164, 22.04317606, 24.76139171,\n",
      "       23.75485643, 23.94240538, 11.92999443,  7.79152033, 23.01780642,\n",
      "       10.61742939, 20.94239206, 18.55147914, 26.02651575, 17.23354948,\n",
      "       22.1668994 , 20.47248982,  9.47645731, 12.76972634, 19.68171673,\n",
      "       19.82898646, 21.45772193, 13.78043759, 27.52823633, 22.81459087,\n",
      "       18.4210256 , 23.34030626, 19.55510297, 18.11348055, 17.0881902 ,\n",
      "       23.05485295, 17.20344682, 19.57291482, 22.18736458, 29.61250156,\n",
      "        9.45062541, 12.91975975, 21.18428388, 17.49853414, 28.34239468,\n",
      "       24.33217743, 25.46796901, 16.05753621, 17.15401865, 19.88363384,\n",
      "       22.43225708, 14.01001855, 25.54514638, 22.28471651, 20.68010381]), 'Ice Cream': array([False,  True,  True, False,  True, False, False,  True,  True,\n",
      "        True, False, False,  True,  True, False,  True, False, False,\n",
      "        True,  True, False, False,  True, False,  True, False,  True,\n",
      "        True,  True, False,  True,  True, False, False, False, False,\n",
      "        True,  True,  True, False, False, False,  True,  True,  True,\n",
      "        True, False, False, False, False,  True, False,  True, False,\n",
      "        True,  True,  True, False, False,  True, False,  True, False,\n",
      "       False,  True,  True,  True,  True, False,  True,  True,  True,\n",
      "       False, False,  True, False, False, False,  True,  True, False,\n",
      "        True,  True,  True,  True, False,  True, False, False, False,\n",
      "        True, False,  True, False,  True, False,  True, False,  True,\n",
      "       False])}\n"
     ]
    }
   ],
   "source": [
    "var1 = np.random.randn(100)*5 + 20\n",
    "var2 = np.random.randn(100) > 0\n",
    "labels= [\"Temp(C)\", \"Ice Cream\"]\n",
    "\n",
    "D= {labels[0]:var1, labels[1]:var2}\n",
    "\n",
    "print(D )"
   ]
  },
  {
   "cell_type": "code",
   "execution_count": 14,
   "id": "604022a6-b40f-4287-859d-164d4002d7ae",
   "metadata": {},
   "outputs": [],
   "source": [
    "df = pd.DataFrame(data = D)"
   ]
  },
  {
   "cell_type": "code",
   "execution_count": 15,
   "id": "eedfc5ec-894d-46f5-baef-5d7934992687",
   "metadata": {},
   "outputs": [
    {
     "name": "stdout",
     "output_type": "stream",
     "text": [
      "<class 'pandas.core.frame.DataFrame'>\n"
     ]
    }
   ],
   "source": [
    "print(type(df))"
   ]
  },
  {
   "cell_type": "code",
   "execution_count": 17,
   "id": "5aaaf42c-7cec-4375-9a37-2bcce52a0c3c",
   "metadata": {},
   "outputs": [
    {
     "data": {
      "text/html": [
       "<div>\n",
       "<style scoped>\n",
       "    .dataframe tbody tr th:only-of-type {\n",
       "        vertical-align: middle;\n",
       "    }\n",
       "\n",
       "    .dataframe tbody tr th {\n",
       "        vertical-align: top;\n",
       "    }\n",
       "\n",
       "    .dataframe thead th {\n",
       "        text-align: right;\n",
       "    }\n",
       "</style>\n",
       "<table border=\"1\" class=\"dataframe\">\n",
       "  <thead>\n",
       "    <tr style=\"text-align: right;\">\n",
       "      <th></th>\n",
       "      <th>Temp(C)</th>\n",
       "      <th>Ice Cream</th>\n",
       "    </tr>\n",
       "  </thead>\n",
       "  <tbody>\n",
       "    <tr>\n",
       "      <th>0</th>\n",
       "      <td>17.240002</td>\n",
       "      <td>False</td>\n",
       "    </tr>\n",
       "    <tr>\n",
       "      <th>1</th>\n",
       "      <td>25.400197</td>\n",
       "      <td>True</td>\n",
       "    </tr>\n",
       "    <tr>\n",
       "      <th>2</th>\n",
       "      <td>20.804106</td>\n",
       "      <td>True</td>\n",
       "    </tr>\n",
       "    <tr>\n",
       "      <th>3</th>\n",
       "      <td>20.551908</td>\n",
       "      <td>False</td>\n",
       "    </tr>\n",
       "    <tr>\n",
       "      <th>4</th>\n",
       "      <td>19.018102</td>\n",
       "      <td>True</td>\n",
       "    </tr>\n",
       "    <tr>\n",
       "      <th>...</th>\n",
       "      <td>...</td>\n",
       "      <td>...</td>\n",
       "    </tr>\n",
       "    <tr>\n",
       "      <th>95</th>\n",
       "      <td>22.432257</td>\n",
       "      <td>False</td>\n",
       "    </tr>\n",
       "    <tr>\n",
       "      <th>96</th>\n",
       "      <td>14.010019</td>\n",
       "      <td>True</td>\n",
       "    </tr>\n",
       "    <tr>\n",
       "      <th>97</th>\n",
       "      <td>25.545146</td>\n",
       "      <td>False</td>\n",
       "    </tr>\n",
       "    <tr>\n",
       "      <th>98</th>\n",
       "      <td>22.284717</td>\n",
       "      <td>True</td>\n",
       "    </tr>\n",
       "    <tr>\n",
       "      <th>99</th>\n",
       "      <td>20.680104</td>\n",
       "      <td>False</td>\n",
       "    </tr>\n",
       "  </tbody>\n",
       "</table>\n",
       "<p>100 rows × 2 columns</p>\n",
       "</div>"
      ],
      "text/plain": [
       "      Temp(C)  Ice Cream\n",
       "0   17.240002      False\n",
       "1   25.400197       True\n",
       "2   20.804106       True\n",
       "3   20.551908      False\n",
       "4   19.018102       True\n",
       "..        ...        ...\n",
       "95  22.432257      False\n",
       "96  14.010019       True\n",
       "97  25.545146      False\n",
       "98  22.284717       True\n",
       "99  20.680104      False\n",
       "\n",
       "[100 rows x 2 columns]"
      ]
     },
     "execution_count": 17,
     "metadata": {},
     "output_type": "execute_result"
    }
   ],
   "source": [
    "df"
   ]
  },
  {
   "cell_type": "code",
   "execution_count": 19,
   "id": "536f9dd6-b1c4-414b-8bee-ab381d02349f",
   "metadata": {},
   "outputs": [
    {
     "data": {
      "text/plain": [
       "<bound method DataFrame.count of       Temp(C)  Ice Cream\n",
       "0   17.240002      False\n",
       "1   25.400197       True\n",
       "2   20.804106       True\n",
       "3   20.551908      False\n",
       "4   19.018102       True\n",
       "..        ...        ...\n",
       "95  22.432257      False\n",
       "96  14.010019       True\n",
       "97  25.545146      False\n",
       "98  22.284717       True\n",
       "99  20.680104      False\n",
       "\n",
       "[100 rows x 2 columns]>"
      ]
     },
     "execution_count": 19,
     "metadata": {},
     "output_type": "execute_result"
    }
   ],
   "source": [
    "df.count"
   ]
  },
  {
   "cell_type": "code",
   "execution_count": 20,
   "id": "98ae7842-7cd7-46ee-8757-6f7abd0ab9a9",
   "metadata": {},
   "outputs": [
    {
     "data": {
      "text/plain": [
       "<bound method DataFrame.mean of       Temp(C)  Ice Cream\n",
       "0   17.240002      False\n",
       "1   25.400197       True\n",
       "2   20.804106       True\n",
       "3   20.551908      False\n",
       "4   19.018102       True\n",
       "..        ...        ...\n",
       "95  22.432257      False\n",
       "96  14.010019       True\n",
       "97  25.545146      False\n",
       "98  22.284717       True\n",
       "99  20.680104      False\n",
       "\n",
       "[100 rows x 2 columns]>"
      ]
     },
     "execution_count": 20,
     "metadata": {},
     "output_type": "execute_result"
    }
   ],
   "source": [
    "df.mean"
   ]
  },
  {
   "cell_type": "code",
   "execution_count": null,
   "id": "0341b1e8-2f75-4b25-bd84-39e00f7b4a14",
   "metadata": {},
   "outputs": [],
   "source": []
  }
 ],
 "metadata": {
  "kernelspec": {
   "display_name": "Python 3 (ipykernel)",
   "language": "python",
   "name": "python3"
  },
  "language_info": {
   "codemirror_mode": {
    "name": "ipython",
    "version": 3
   },
   "file_extension": ".py",
   "mimetype": "text/x-python",
   "name": "python",
   "nbconvert_exporter": "python",
   "pygments_lexer": "ipython3",
   "version": "3.13.5"
  }
 },
 "nbformat": 4,
 "nbformat_minor": 5
}
