{
 "cells": [
  {
   "cell_type": "code",
   "execution_count": 1,
   "id": "0c0d1028-162e-429b-af7f-80b5b7330ddb",
   "metadata": {},
   "outputs": [],
   "source": [
    "import numpy as np\n",
    "import torch"
   ]
  },
  {
   "cell_type": "code",
   "execution_count": 7,
   "id": "aba1a9ca-8697-4de6-b2e7-1aaa95f38d7e",
   "metadata": {},
   "outputs": [
    {
     "data": {
      "text/plain": [
       "array([ 2.171257  ,  1.15231025, -1.81881234, -0.13804934,  0.53983961])"
      ]
     },
     "execution_count": 7,
     "metadata": {},
     "output_type": "execute_result"
    }
   ],
   "source": [
    "np.random.randn(5)"
   ]
  },
  {
   "cell_type": "code",
   "execution_count": 13,
   "id": "aa57fe51-7fe3-4ee6-8279-ae53bf119f1b",
   "metadata": {},
   "outputs": [
    {
     "name": "stdout",
     "output_type": "stream",
     "text": [
      "[ 0.27626589 -1.85462808  0.62390111  1.14531129  1.03719047]\n",
      "[ 1.88663893 -0.11169829 -0.36210134  0.14867505 -0.43778315]\n"
     ]
    }
   ],
   "source": [
    "#Global Seeding\n",
    "np.random.seed(17)\n",
    "print(np.random.randn(5))\n",
    "print(np.random.randn(5))"
   ]
  },
  {
   "cell_type": "markdown",
   "id": "a1763484-8c63-4ad2-9886-eca6697bdbec",
   "metadata": {},
   "source": [
    "# New seed Mechanism"
   ]
  },
  {
   "cell_type": "code",
   "execution_count": 19,
   "id": "ee5cb896-0d71-4927-a6f5-057a4463e63d",
   "metadata": {},
   "outputs": [
    {
     "name": "stdout",
     "output_type": "stream",
     "text": [
      "[ 0.27626589 -1.85462808  0.62390111  1.14531129  1.03719047]\n",
      "[-0.07329789 -0.36874908 -0.41738116 -0.40722137 -1.73066466]\n",
      "[ 1.88663893 -0.11169829 -0.36210134  0.14867505 -0.43778315]\n",
      "[ 0.28611648  0.00332193  0.96611686 -0.87560284  2.53312597]\n",
      "[ 0.13126776 -1.21256024  0.15999085 -0.75522304  0.34989599]\n"
     ]
    }
   ],
   "source": [
    "#Local Seeding\n",
    "randseed1 = np.random.RandomState(17)\n",
    "randseed2 = np.random.RandomState(20918346)\n",
    "print(randseed1.randn(5))\n",
    "print(randseed2.randn(5))\n",
    "print(randseed1.randn(5))\n",
    "print(randseed2.randn(5))\n",
    "print(np.random.randn(5))"
   ]
  },
  {
   "cell_type": "markdown",
   "id": "a75e982b-ed48-43a8-85c2-8ae280b6586a",
   "metadata": {},
   "source": [
    "# Pytorch"
   ]
  },
  {
   "cell_type": "code",
   "execution_count": 20,
   "id": "efcd5833-a147-4552-a0a1-8b8b522799dd",
   "metadata": {},
   "outputs": [
    {
     "data": {
      "text/plain": [
       "tensor([ 0.4341,  0.0367, -0.6697,  1.1337, -1.2297])"
      ]
     },
     "execution_count": 20,
     "metadata": {},
     "output_type": "execute_result"
    }
   ],
   "source": [
    "torch.randn(5)"
   ]
  },
  {
   "cell_type": "code",
   "execution_count": 24,
   "id": "4bd69398-ac2c-4bd8-9c16-39d962fa9a81",
   "metadata": {},
   "outputs": [
    {
     "name": "stdout",
     "output_type": "stream",
     "text": [
      "tensor([-1.4135,  0.2336,  0.0340,  0.3499, -0.0145])\n"
     ]
    },
    {
     "data": {
      "text/plain": [
       "tensor([-0.6124, -1.1835, -1.4831,  1.8004,  0.0096])"
      ]
     },
     "execution_count": 24,
     "metadata": {},
     "output_type": "execute_result"
    }
   ],
   "source": [
    "torch.manual_seed(17)\n",
    "print(torch.randn(5))\n",
    "\n",
    "torch.randn(5)"
   ]
  },
  {
   "cell_type": "code",
   "execution_count": null,
   "id": "a2f229ea-7944-4537-9d79-1e636478be8a",
   "metadata": {},
   "outputs": [],
   "source": []
  },
  {
   "cell_type": "code",
   "execution_count": null,
   "id": "9ad4217f-74ac-433a-9be8-789654e02e2d",
   "metadata": {},
   "outputs": [],
   "source": []
  }
 ],
 "metadata": {
  "kernelspec": {
   "display_name": "Python 3 (ipykernel)",
   "language": "python",
   "name": "python3"
  },
  "language_info": {
   "codemirror_mode": {
    "name": "ipython",
    "version": 3
   },
   "file_extension": ".py",
   "mimetype": "text/x-python",
   "name": "python",
   "nbconvert_exporter": "python",
   "pygments_lexer": "ipython3",
   "version": "3.13.5"
  }
 },
 "nbformat": 4,
 "nbformat_minor": 5
}
