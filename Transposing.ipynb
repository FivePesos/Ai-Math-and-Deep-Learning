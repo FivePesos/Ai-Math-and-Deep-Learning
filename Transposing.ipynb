{
 "cells": [
  {
   "cell_type": "code",
   "execution_count": 2,
   "id": "46040618-e3ef-44f2-866f-d8fa34404133",
   "metadata": {},
   "outputs": [],
   "source": [
    "import numpy as np\n",
    "import torch"
   ]
  },
  {
   "cell_type": "markdown",
   "id": "521e5c9a-8702-465c-b03b-e369882bd5be",
   "metadata": {},
   "source": [
    "# Transposing a Vector using numpy"
   ]
  },
  {
   "cell_type": "code",
   "execution_count": null,
   "id": "9ecfb5dc-2ec1-4f73-9560-b30ab61209c8",
   "metadata": {},
   "outputs": [],
   "source": [
    "#Create a vector\n",
    "nv = np.array([[1,2,3,4]]) #first square bracket indicates that we want to input an array, second array indicates the first row\n",
    "print(f\"{nv} \\n\")\n",
    "\n",
    "#Transposing a vector\n",
    "print(f\"{nv.T}\\n\") #or np.tranpose(nv)\n",
    "\n",
    "#Transpose the transposed vector\n",
    "nvt = nv.T\n",
    "print(f\"{nvt.T}\\n\")"
   ]
  },
  {
   "cell_type": "markdown",
   "id": "c7216372-3172-4665-8749-af2448142821",
   "metadata": {},
   "source": [
    "# Transposing a Matrix using numpy"
   ]
  },
  {
   "cell_type": "code",
   "execution_count": 19,
   "id": "fc301481-e2da-4d42-8d7c-cffd26a849f8",
   "metadata": {},
   "outputs": [
    {
     "name": "stdout",
     "output_type": "stream",
     "text": [
      "[[ 1  0  2  5 -2]\n",
      " [ 5  6  8  3  0]]\n",
      "\n",
      "[[ 1  5]\n",
      " [ 0  6]\n",
      " [ 2  8]\n",
      " [ 5  3]\n",
      " [-2  0]]\n",
      "\n",
      "[[ 1  0  2  5 -2]\n",
      " [ 5  6  8  3  0]]\n"
     ]
    }
   ],
   "source": [
    "#Create a matrix\n",
    "nm = np.array([\n",
    "        [1,0,2,5,-2],\n",
    "        [5,6,8,3,0]\n",
    "        ])\n",
    "print(f\"{nm}\\n\")\n",
    "\n",
    "#Transposing a matrix\n",
    "print(f\"{nm.T}\\n\") #or np.tranpose(nm)\n",
    "\n",
    "#Tranpose the transposed matrix\n",
    "nmt = nm.T\n",
    "print(nmt.T)"
   ]
  },
  {
   "cell_type": "markdown",
   "id": "23569dc4-6978-4ebd-99f0-86baf544884c",
   "metadata": {},
   "source": [
    "# Transposing a Vector using pytorch"
   ]
  },
  {
   "cell_type": "code",
   "execution_count": 25,
   "id": "92526484-0847-4a4f-bedb-8cb10bc1bd7a",
   "metadata": {},
   "outputs": [
    {
     "name": "stdout",
     "output_type": "stream",
     "text": [
      "tensor([[1, 2, 3, 4]])\n",
      "\n",
      "tensor([[1],\n",
      "        [2],\n",
      "        [3],\n",
      "        [4]])\n",
      "\n",
      "tensor([[1, 2, 3, 4]])\n",
      "\n"
     ]
    }
   ],
   "source": [
    "#Create a vector\n",
    "tv = torch.tensor([[1,2,3,4]])\n",
    "print(f\"{tv}\\n\")\n",
    "\n",
    "#Transpose a vector\n",
    "print(f\"{tv.T}\\n\")\n",
    "\n",
    "#Transpose the transposed vector\n",
    "tvt = tv.T\n",
    "print(f\"{tvt.T}\\n\")"
   ]
  },
  {
   "cell_type": "markdown",
   "id": "6df3ab04-e632-4b59-9766-a792c24f00fb",
   "metadata": {},
   "source": [
    "# Transposing a Matrix using pytorch"
   ]
  },
  {
   "cell_type": "code",
   "execution_count": 27,
   "id": "51e5dd73-4223-41c2-8415-d3b3a8e2fb01",
   "metadata": {},
   "outputs": [
    {
     "name": "stdout",
     "output_type": "stream",
     "text": [
      "tensor([[1, 2, 3, 4],\n",
      "        [5, 6, 7, 8]])\n",
      "\n",
      "tensor([[1, 5],\n",
      "        [2, 6],\n",
      "        [3, 7],\n",
      "        [4, 8]])\n",
      "\n",
      "tensor([[1, 2, 3, 4],\n",
      "        [5, 6, 7, 8]])\n",
      "\n"
     ]
    }
   ],
   "source": [
    "#Create a matrix\n",
    "tm = torch.tensor([\n",
    "    [1,2,3,4],\n",
    "    [5,6,7,8]\n",
    "    ])\n",
    "print(f\"{tm}\\n\")\n",
    "\n",
    "#Transpose a vector\n",
    "print(f\"{tm.T}\\n\")\n",
    "\n",
    "#Transpose the transposed vector\n",
    "tmt = tm.T\n",
    "print(f\"{tmt.T}\\n\")"
   ]
  },
  {
   "cell_type": "code",
   "execution_count": null,
   "id": "6dd27b98-a926-4d34-b2e7-d2d7c833cfae",
   "metadata": {},
   "outputs": [],
   "source": []
  }
 ],
 "metadata": {
  "kernelspec": {
   "display_name": "Python 3 (ipykernel)",
   "language": "python",
   "name": "python3"
  },
  "language_info": {
   "codemirror_mode": {
    "name": "ipython",
    "version": 3
   },
   "file_extension": ".py",
   "mimetype": "text/x-python",
   "name": "python",
   "nbconvert_exporter": "python",
   "pygments_lexer": "ipython3",
   "version": "3.13.5"
  }
 },
 "nbformat": 4,
 "nbformat_minor": 5
}
